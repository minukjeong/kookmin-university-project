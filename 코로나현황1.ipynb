{
 "cells": [
  {
   "cell_type": "markdown",
   "metadata": {},
   "source": [
    "## 공공데이터 포털 코로나 정보 불러오기\n",
    "공공데이터 포털에서 검색한 코로나 정보 openapi를 불러온다\n",
    "openapi에 저장된 인증키와 url 코드를 불러옴"
   ]
  },
  {
   "cell_type": "code",
   "execution_count": 1,
   "metadata": {},
   "outputs": [],
   "source": [
    "from urllib.request import urlopen\n",
    "from urllib.parse import urlencode, unquote, quote_plus\n",
    "import urllib\n",
    "import requests\n",
    "import pandas as pd\n",
    "import xmltodict\n",
    "import json\n",
    "import datetime\n",
    "\n",
    "today = datetime.datetime.today()\n",
    "base_date = today.strftime(\"%Y%m%d\")\n",
    "base_date1 = int(base_date)\n",
    "\n",
    "key='U%2Bue3nwitwKpRE26tUkRgTj5%2BD2bknqcqqsDwm35y%2B3YhGcrEA%2FSYmTJn1CyrxKcPHdd5sJWJIY8PAV%2BwJxQGg%3D%3D'\n",
    "url = f'http://openapi.data.go.kr/openapi/service/rest/Covid19/getCovid19InfStateJson?serviceKey=U%2Bue3nwitwKpRE26tUkRgTj5%2BD2bknqcqqsDwm35y%2B3YhGcrEA%2FSYmTJn1CyrxKcPHdd5sJWJIY8PAV%2BwJxQGg%3D%3D&'\n",
    "queryParams = urlencode({ quote_plus('pageNo') : 1, \n",
    "                          quote_plus('numOfRows') : 10,\n",
    "                          quote_plus('startCreateDt') : base_date1,\n",
    "                          quote_plus('endCreateDt') : base_date1})"
   ]
  },
  {
   "cell_type": "markdown",
   "metadata": {},
   "source": [
    "## 날짜 선정"
   ]
  },
  {
   "cell_type": "code",
   "execution_count": 2,
   "metadata": {},
   "outputs": [
    {
     "data": {
      "text/plain": [
       "20211216"
      ]
     },
     "execution_count": 2,
     "metadata": {},
     "output_type": "execute_result"
    }
   ],
   "source": [
    "base_date1"
   ]
  },
  {
   "cell_type": "markdown",
   "metadata": {},
   "source": [
    "## 데이터 타입 지정"
   ]
  },
  {
   "cell_type": "code",
   "execution_count": 3,
   "metadata": {},
   "outputs": [
    {
     "data": {
      "text/plain": [
       "int"
      ]
     },
     "execution_count": 3,
     "metadata": {},
     "output_type": "execute_result"
    }
   ],
   "source": [
    "type(base_date1)"
   ]
  },
  {
   "cell_type": "markdown",
   "metadata": {},
   "source": [
    "## url 코드에 지정된 코드값 확인"
   ]
  },
  {
   "cell_type": "code",
   "execution_count": 4,
   "metadata": {},
   "outputs": [],
   "source": [
    "response = urlopen(url + queryParams) \n",
    "results = response.read().decode(\"utf-8\")"
   ]
  },
  {
   "cell_type": "code",
   "execution_count": 5,
   "metadata": {},
   "outputs": [],
   "source": [
    "url2 = url + queryParams\n",
    "response = urlopen(url2)"
   ]
  },
  {
   "cell_type": "code",
   "execution_count": 6,
   "metadata": {},
   "outputs": [
    {
     "name": "stdout",
     "output_type": "stream",
     "text": [
      "<class 'dict'>\n",
      "{'response': {'header': {'resultCode': '00', 'resultMsg': 'NORMAL SERVICE.'}, 'body': {'items': {'item': {'accExamCnt': '18381569', 'createDt': '2021-12-16 09:09:11.111', 'deathCnt': '4518', 'decideCnt': '544117', 'seq': '729', 'stateDt': '20211216', 'stateTime': '00:00', 'updateDt': 'null'}}, 'numOfRows': '10', 'pageNo': '1', 'totalCount': '1'}}}\n"
     ]
    }
   ],
   "source": [
    "results = response.read().decode(\"utf-8\")\n",
    "results_to_json = xmltodict.parse(results)\n",
    "data = json.loads(json.dumps(results_to_json))\n",
    "print(type(data))   # dic\n",
    "print(data) "
   ]
  },
  {
   "cell_type": "markdown",
   "metadata": {},
   "source": [
    "## 날짜, 확진자 수, 사망자 수 따로 저장"
   ]
  },
  {
   "cell_type": "code",
   "execution_count": 7,
   "metadata": {},
   "outputs": [
    {
     "data": {
      "text/plain": [
       "'20211216'"
      ]
     },
     "execution_count": 7,
     "metadata": {},
     "output_type": "execute_result"
    }
   ],
   "source": [
    "stateDt = (data[\"response\"][\"body\"][\"items\"]['item'][\"stateDt\"]) #날짜\n",
    "stateDt"
   ]
  },
  {
   "cell_type": "code",
   "execution_count": 8,
   "metadata": {},
   "outputs": [
    {
     "data": {
      "text/plain": [
       "'544117'"
      ]
     },
     "execution_count": 8,
     "metadata": {},
     "output_type": "execute_result"
    }
   ],
   "source": [
    "decideCnt = (data[\"response\"][\"body\"][\"items\"]['item'][\"decideCnt\"]) #확진자수\n",
    "decideCnt"
   ]
  },
  {
   "cell_type": "code",
   "execution_count": 9,
   "metadata": {},
   "outputs": [
    {
     "data": {
      "text/plain": [
       "'4518'"
      ]
     },
     "execution_count": 9,
     "metadata": {},
     "output_type": "execute_result"
    }
   ],
   "source": [
    "deathCnt = (data[\"response\"][\"body\"][\"items\"]['item'][\"deathCnt\"]) #사망자수\n",
    "deathCnt "
   ]
  },
  {
   "cell_type": "markdown",
   "metadata": {},
   "source": [
    "## 카카오톡 openAPI 토큰 받기"
   ]
  },
  {
   "cell_type": "code",
   "execution_count": 12,
   "metadata": {},
   "outputs": [
    {
     "name": "stdout",
     "output_type": "stream",
     "text": [
      "{'access_token': 'YW7CoLUp8aFiEAcp-3BpTQqvrkypMq25mvHZTQorDNMAAAF9wPebaw', 'token_type': 'bearer', 'expires_in': 21599}\n"
     ]
    },
    {
     "data": {
      "text/plain": [
       "{'access_token': 'YW7CoLUp8aFiEAcp-3BpTQqvrkypMq25mvHZTQorDNMAAAF9wPebaw',\n",
       " 'token_type': 'bearer',\n",
       " 'refresh_token': 'dKV5wI9lSzPoSlbhoLeVcx-rs3h6pHdctp40CQo9cusAAAF9wPHxAA',\n",
       " 'expires_in': 21599,\n",
       " 'scope': 'account_email profile_image talk_message profile_nickname',\n",
       " 'refresh_token_expires_in': 5183999}"
      ]
     },
     "execution_count": 12,
     "metadata": {},
     "output_type": "execute_result"
    }
   ],
   "source": [
    "import json\n",
    "import kakao_utils\n",
    "\n",
    "KAKAO_TOKEN_FILENAME = \"C:/Users/gram/Desktop/파이썬메시업프로젝트/res/kakao_message/kakao_token.json\"\n",
    "KAKAO_APP_KEY = \"ec2080a0764544d8c438ffa77c95bd41\"\n",
    "kakao_utils.update_tokens(KAKAO_APP_KEY, KAKAO_TOKEN_FILENAME)"
   ]
  },
  {
   "cell_type": "markdown",
   "metadata": {},
   "source": [
    "## 정보 발송"
   ]
  },
  {
   "cell_type": "code",
   "execution_count": 13,
   "metadata": {},
   "outputs": [
    {
     "name": "stdout",
     "output_type": "stream",
     "text": [
      "코로나 정보 성공적으로 보냈습니다.\n"
     ]
    }
   ],
   "source": [
    "corona_url = \"http://ncov.mohw.go.kr\"\n",
    "# 날씨 정보 만들기\n",
    "\n",
    "text =  f\"\"\"\\\n",
    "#날짜 : {stateDt} \\n\n",
    "누적확진자 : {decideCnt} \\n\n",
    "사망자 수 : {deathCnt} \\n\n",
    "\"\"\"\n",
    "\n",
    "# 텍스트 템플릿 형식 만들기\n",
    "template = {\n",
    "    \"object_type\": \"text\",\n",
    "    \"text\": text,\n",
    "    \"link\": {\n",
    "        \"web_url\": corona_url,\n",
    "        \"mobile_web_url\": corona_url\n",
    "    },\n",
    "    \"button_title\": \"코로나 정보 상세보기\"\n",
    "}\n",
    "\n",
    "# 카카오톡 메시지 전송\n",
    "\n",
    "res = kakao_utils.send_message(KAKAO_TOKEN_FILENAME, template)\n",
    "if res.json().get('result_code') == 0:\n",
    "    print('코로나 정보 성공적으로 보냈습니다.')\n",
    "else:\n",
    "    print('코로나 정보 성공적으로 보내지 못했습니다. 오류메시지 : ', res.json())\n"
   ]
  },
  {
   "cell_type": "code",
   "execution_count": null,
   "metadata": {},
   "outputs": [],
   "source": []
  }
 ],
 "metadata": {
  "kernelspec": {
   "display_name": "Python 3",
   "language": "python",
   "name": "python3"
  },
  "language_info": {
   "codemirror_mode": {
    "name": "ipython",
    "version": 3
   },
   "file_extension": ".py",
   "mimetype": "text/x-python",
   "name": "python",
   "nbconvert_exporter": "python",
   "pygments_lexer": "ipython3",
   "version": "3.7.6"
  }
 },
 "nbformat": 4,
 "nbformat_minor": 4
}
